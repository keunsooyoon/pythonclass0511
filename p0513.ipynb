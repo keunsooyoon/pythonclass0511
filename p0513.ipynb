{
 "cells": [
  {
   "cell_type": "code",
   "execution_count": 24,
   "metadata": {},
   "outputs": [],
   "source": [
    "#!pip install selenium 셀레니움 설치\n",
    "\n",
    "# import requests                  # 웹연결해서 소스 읽어오기\n",
    "from selenium import webdriver     # 브라우저의 소스 읽어오기\n",
    "from bs4 import BeautifulSoup as bs# 읽어온 소스를 분석하기 쉽게 정제\n",
    "import pandas as pd"
   ]
  },
  {
   "cell_type": "code",
   "execution_count": 5,
   "metadata": {},
   "outputs": [
    {
     "name": "stderr",
     "output_type": "stream",
     "text": [
      "C:\\Users\\Admin\\AppData\\Local\\Temp\\ipykernel_16844\\2629956688.py:1: DeprecationWarning: executable_path has been deprecated, please pass in a Service object\n",
      "  driver = webdriver.Chrome('chromedriver.exe')  #크롬 브라우저 띄우기\n"
     ]
    }
   ],
   "source": [
    "driver = webdriver.Chrome('chromedriver.exe')  #크롬 브라우저 띄우기\n",
    "driver.get('https://www.melon.com/chart/')     #사이트 연결\n",
    "html = driver.page_source                      #소스 읽어오기\n"
   ]
  },
  {
   "cell_type": "code",
   "execution_count": 6,
   "metadata": {},
   "outputs": [],
   "source": [
    "soup = bs(html)"
   ]
  },
  {
   "cell_type": "code",
   "execution_count": 8,
   "metadata": {},
   "outputs": [
    {
     "data": {
      "text/plain": [
       "101"
      ]
     },
     "execution_count": 8,
     "metadata": {},
     "output_type": "execute_result"
    }
   ],
   "source": [
    "len(soup.select('tr'))"
   ]
  },
  {
   "cell_type": "code",
   "execution_count": 9,
   "metadata": {},
   "outputs": [
    {
     "data": {
      "text/plain": [
       "50"
      ]
     },
     "execution_count": 9,
     "metadata": {},
     "output_type": "execute_result"
    }
   ],
   "source": [
    "len(soup.select('tr.lst50'))"
   ]
  },
  {
   "cell_type": "code",
   "execution_count": 10,
   "metadata": {},
   "outputs": [
    {
     "data": {
      "text/plain": [
       "100"
      ]
     },
     "execution_count": 10,
     "metadata": {},
     "output_type": "execute_result"
    }
   ],
   "source": [
    "len(soup.select('tbody > tr'))"
   ]
  },
  {
   "cell_type": "code",
   "execution_count": 12,
   "metadata": {},
   "outputs": [],
   "source": [
    "songs = soup.select('tbody > tr')\n",
    "song = songs[0]\n"
   ]
  },
  {
   "cell_type": "code",
   "execution_count": 15,
   "metadata": {},
   "outputs": [
    {
     "data": {
      "text/plain": [
       "6"
      ]
     },
     "execution_count": 15,
     "metadata": {},
     "output_type": "execute_result"
    }
   ],
   "source": [
    "len(song.select('a'))"
   ]
  },
  {
   "cell_type": "code",
   "execution_count": 16,
   "metadata": {},
   "outputs": [
    {
     "data": {
      "text/plain": [
       "2"
      ]
     },
     "execution_count": 16,
     "metadata": {},
     "output_type": "execute_result"
    }
   ],
   "source": [
    "len(song.select('span > a'))"
   ]
  },
  {
   "cell_type": "code",
   "execution_count": 17,
   "metadata": {},
   "outputs": [
    {
     "data": {
      "text/plain": [
       "[<a href=\"javascript:melon.play.playSong('1000002721',34997078);\" title=\"That That (prod. &amp; feat. SUGA of BTS) 재생\">That That (prod. &amp; feat. SUGA of BTS)</a>,\n",
       " <a href=\"javascript:melon.link.goArtistDetail('3865');\" title=\"싸이 (PSY) - 페이지 이동\">싸이 (PSY)</a>]"
      ]
     },
     "execution_count": 17,
     "metadata": {},
     "output_type": "execute_result"
    }
   ],
   "source": [
    "song.select('span > a')"
   ]
  },
  {
   "cell_type": "code",
   "execution_count": 19,
   "metadata": {},
   "outputs": [
    {
     "data": {
      "text/plain": [
       "[<a href=\"javascript:melon.play.playSong('1000002721',34997078);\" title=\"That That (prod. &amp; feat. SUGA of BTS) 재생\">That That (prod. &amp; feat. SUGA of BTS)</a>]"
      ]
     },
     "execution_count": 19,
     "metadata": {},
     "output_type": "execute_result"
    }
   ],
   "source": [
    "song.select('div.ellipsis.rank01 > span > a')"
   ]
  },
  {
   "cell_type": "code",
   "execution_count": 20,
   "metadata": {},
   "outputs": [
    {
     "data": {
      "text/plain": [
       "'That That (prod. & feat. SUGA of BTS)'"
      ]
     },
     "execution_count": 20,
     "metadata": {},
     "output_type": "execute_result"
    }
   ],
   "source": [
    "song.select('div.ellipsis.rank01 > span > a')[0].text"
   ]
  },
  {
   "cell_type": "code",
   "execution_count": 22,
   "metadata": {},
   "outputs": [
    {
     "data": {
      "text/plain": [
       "6"
      ]
     },
     "execution_count": 22,
     "metadata": {},
     "output_type": "execute_result"
    }
   ],
   "source": [
    "len(song.select('a'))"
   ]
  },
  {
   "cell_type": "code",
   "execution_count": 23,
   "metadata": {},
   "outputs": [
    {
     "data": {
      "text/plain": [
       "'싸이 (PSY)'"
      ]
     },
     "execution_count": 23,
     "metadata": {},
     "output_type": "execute_result"
    }
   ],
   "source": [
    "song.select('div.ellipsis.rank02 > span > a')[0].text"
   ]
  },
  {
   "cell_type": "code",
   "execution_count": 25,
   "metadata": {},
   "outputs": [
    {
     "data": {
      "text/html": [
       "<div>\n",
       "<style scoped>\n",
       "    .dataframe tbody tr th:only-of-type {\n",
       "        vertical-align: middle;\n",
       "    }\n",
       "\n",
       "    .dataframe tbody tr th {\n",
       "        vertical-align: top;\n",
       "    }\n",
       "\n",
       "    .dataframe thead th {\n",
       "        text-align: right;\n",
       "    }\n",
       "</style>\n",
       "<table border=\"1\" class=\"dataframe\">\n",
       "  <thead>\n",
       "    <tr style=\"text-align: right;\">\n",
       "      <th></th>\n",
       "      <th>차트</th>\n",
       "      <th>순위</th>\n",
       "      <th>타이틀</th>\n",
       "      <th>가수</th>\n",
       "    </tr>\n",
       "  </thead>\n",
       "  <tbody>\n",
       "    <tr>\n",
       "      <th>0</th>\n",
       "      <td>Melon</td>\n",
       "      <td>1</td>\n",
       "      <td>That That (prod. &amp; feat. SUGA of BTS)</td>\n",
       "      <td>싸이 (PSY)</td>\n",
       "    </tr>\n",
       "    <tr>\n",
       "      <th>1</th>\n",
       "      <td>Melon</td>\n",
       "      <td>2</td>\n",
       "      <td>봄여름가을겨울 (Still Life)</td>\n",
       "      <td>BIGBANG (빅뱅)</td>\n",
       "    </tr>\n",
       "    <tr>\n",
       "      <th>2</th>\n",
       "      <td>Melon</td>\n",
       "      <td>3</td>\n",
       "      <td>LOVE DIVE</td>\n",
       "      <td>IVE (아이브)</td>\n",
       "    </tr>\n",
       "    <tr>\n",
       "      <th>3</th>\n",
       "      <td>Melon</td>\n",
       "      <td>4</td>\n",
       "      <td>TOMBOY</td>\n",
       "      <td>(여자)아이들</td>\n",
       "    </tr>\n",
       "    <tr>\n",
       "      <th>4</th>\n",
       "      <td>Melon</td>\n",
       "      <td>5</td>\n",
       "      <td>사랑인가 봐</td>\n",
       "      <td>멜로망스</td>\n",
       "    </tr>\n",
       "    <tr>\n",
       "      <th>...</th>\n",
       "      <td>...</td>\n",
       "      <td>...</td>\n",
       "      <td>...</td>\n",
       "      <td>...</td>\n",
       "    </tr>\n",
       "    <tr>\n",
       "      <th>95</th>\n",
       "      <td>Melon</td>\n",
       "      <td>96</td>\n",
       "      <td>버퍼링 (Glitch Mode)</td>\n",
       "      <td>NCT DREAM</td>\n",
       "    </tr>\n",
       "    <tr>\n",
       "      <th>96</th>\n",
       "      <td>Melon</td>\n",
       "      <td>97</td>\n",
       "      <td>초록을거머쥔우리는</td>\n",
       "      <td>잔나비</td>\n",
       "    </tr>\n",
       "    <tr>\n",
       "      <th>97</th>\n",
       "      <td>Melon</td>\n",
       "      <td>98</td>\n",
       "      <td>Good Boy Gone Bad</td>\n",
       "      <td>투모로우바이투게더</td>\n",
       "    </tr>\n",
       "    <tr>\n",
       "      <th>98</th>\n",
       "      <td>Melon</td>\n",
       "      <td>99</td>\n",
       "      <td>Christmas Tree</td>\n",
       "      <td>V</td>\n",
       "    </tr>\n",
       "    <tr>\n",
       "      <th>99</th>\n",
       "      <td>Melon</td>\n",
       "      <td>100</td>\n",
       "      <td>Darl+ing</td>\n",
       "      <td>세븐틴</td>\n",
       "    </tr>\n",
       "  </tbody>\n",
       "</table>\n",
       "<p>100 rows × 4 columns</p>\n",
       "</div>"
      ],
      "text/plain": [
       "       차트   순위                                    타이틀            가수\n",
       "0   Melon    1  That That (prod. & feat. SUGA of BTS)      싸이 (PSY)\n",
       "1   Melon    2                   봄여름가을겨울 (Still Life)  BIGBANG (빅뱅)\n",
       "2   Melon    3                              LOVE DIVE     IVE (아이브)\n",
       "3   Melon    4                                 TOMBOY       (여자)아이들\n",
       "4   Melon    5                                 사랑인가 봐          멜로망스\n",
       "..    ...  ...                                    ...           ...\n",
       "95  Melon   96                      버퍼링 (Glitch Mode)     NCT DREAM\n",
       "96  Melon   97                              초록을거머쥔우리는           잔나비\n",
       "97  Melon   98                      Good Boy Gone Bad     투모로우바이투게더\n",
       "98  Melon   99                         Christmas Tree             V\n",
       "99  Melon  100                               Darl+ing           세븐틴\n",
       "\n",
       "[100 rows x 4 columns]"
      ]
     },
     "execution_count": 25,
     "metadata": {},
     "output_type": "execute_result"
    }
   ],
   "source": [
    "song_data = []\n",
    "rank = 1\n",
    "\n",
    "songs = soup.select('tbody > tr')\n",
    "\n",
    "for song in songs:\n",
    "    title = song.select('div.ellipsis.rank01 > span > a')[0].text\n",
    "    singer = song.select('div.ellipsis.rank02 > span > a')[0].text\n",
    "    song_data.append(['Melon', rank, title, singer])\n",
    "    rank += 1\n",
    "\n",
    "df = pd.DataFrame(song_data, columns = ['차트','순위','타이틀','가수'])\n",
    "df"
   ]
  },
  {
   "cell_type": "code",
   "execution_count": 26,
   "metadata": {},
   "outputs": [
    {
     "name": "stderr",
     "output_type": "stream",
     "text": [
      "C:\\Users\\Admin\\AppData\\Local\\Temp\\ipykernel_16844\\1642559117.py:7: DeprecationWarning: executable_path has been deprecated, please pass in a Service object\n",
      "  driver = webdriver.Chrome('chromedriver.exe')  #크롬 브라우저 띄우기\n"
     ]
    }
   ],
   "source": [
    "# 지니\n",
    "\n",
    "from selenium import webdriver     # 브라우저의 소스 읽어오기\n",
    "from bs4 import BeautifulSoup as bs# 읽어온 소스를 분석하기 쉽게 정제\n",
    "import pandas as pd\n",
    "\n",
    "driver = webdriver.Chrome('chromedriver.exe')  #크롬 브라우저 띄우기\n",
    "driver.get('https://www.genie.co.kr/chart/top200?ditc=D&ymd=20220513&hh=20&rtm=Y&pg=1')     #사이트 연결\n",
    "html = driver.page_source     "
   ]
  },
  {
   "cell_type": "code",
   "execution_count": 27,
   "metadata": {},
   "outputs": [],
   "source": [
    "soup = bs(html)"
   ]
  },
  {
   "cell_type": "code",
   "execution_count": 28,
   "metadata": {},
   "outputs": [
    {
     "data": {
      "text/plain": [
       "51"
      ]
     },
     "execution_count": 28,
     "metadata": {},
     "output_type": "execute_result"
    }
   ],
   "source": [
    "len(soup.select('tr'))"
   ]
  },
  {
   "cell_type": "code",
   "execution_count": 29,
   "metadata": {},
   "outputs": [
    {
     "data": {
      "text/plain": [
       "50"
      ]
     },
     "execution_count": 29,
     "metadata": {},
     "output_type": "execute_result"
    }
   ],
   "source": [
    "len(soup.select('tr.list'))"
   ]
  },
  {
   "cell_type": "code",
   "execution_count": 31,
   "metadata": {},
   "outputs": [],
   "source": [
    "songs = soup.select('tr.list')\n",
    "song = songs[0]\n"
   ]
  },
  {
   "cell_type": "code",
   "execution_count": 32,
   "metadata": {},
   "outputs": [
    {
     "data": {
      "text/plain": [
       "11"
      ]
     },
     "execution_count": 32,
     "metadata": {},
     "output_type": "execute_result"
    }
   ],
   "source": [
    "len(song.select('a'))"
   ]
  },
  {
   "cell_type": "code",
   "execution_count": 34,
   "metadata": {},
   "outputs": [
    {
     "data": {
      "text/plain": [
       "1"
      ]
     },
     "execution_count": 34,
     "metadata": {},
     "output_type": "execute_result"
    }
   ],
   "source": [
    "len(song.select('a.title.ellipsis'))"
   ]
  },
  {
   "cell_type": "code",
   "execution_count": 35,
   "metadata": {},
   "outputs": [
    {
     "data": {
      "text/plain": [
       "[<a class=\"title ellipsis\" href=\"#\" onclick=\"fnPlaySong('96664100','1');return false;\" title=\"재생\">\n",
       "                                         \n",
       "                                             \n",
       "                                         \n",
       "                                         \n",
       "                                         \n",
       "                                         \n",
       "                                             \n",
       "                                                 That That (Prod. &amp; Feat. SUGA of BTS)</a>]"
      ]
     },
     "execution_count": 35,
     "metadata": {},
     "output_type": "execute_result"
    }
   ],
   "source": [
    "song.select('a.title.ellipsis')"
   ]
  },
  {
   "cell_type": "code",
   "execution_count": 36,
   "metadata": {},
   "outputs": [
    {
     "data": {
      "text/plain": [
       "'\\n                                        \\n                                            \\n                                        \\n                                        \\n                                        \\n                                        \\n                                            \\n                                                That That (Prod. & Feat. SUGA of BTS)'"
      ]
     },
     "execution_count": 36,
     "metadata": {},
     "output_type": "execute_result"
    }
   ],
   "source": [
    "song.select('a.title.ellipsis')[0].text"
   ]
  },
  {
   "cell_type": "code",
   "execution_count": 37,
   "metadata": {},
   "outputs": [
    {
     "data": {
      "text/plain": [
       "'That That (Prod. & Feat. SUGA of BTS)'"
      ]
     },
     "execution_count": 37,
     "metadata": {},
     "output_type": "execute_result"
    }
   ],
   "source": [
    "song.select('a.title.ellipsis')[0].text.strip()"
   ]
  },
  {
   "cell_type": "code",
   "execution_count": 38,
   "metadata": {},
   "outputs": [
    {
     "data": {
      "text/plain": [
       "'싸이 (Psy)'"
      ]
     },
     "execution_count": 38,
     "metadata": {},
     "output_type": "execute_result"
    }
   ],
   "source": [
    "song.select('a.artist.ellipsis')[0].text.strip()"
   ]
  },
  {
   "cell_type": "code",
   "execution_count": 39,
   "metadata": {},
   "outputs": [
    {
     "name": "stderr",
     "output_type": "stream",
     "text": [
      "C:\\Users\\Admin\\AppData\\Local\\Temp\\ipykernel_16844\\2231572304.py:4: DeprecationWarning: executable_path has been deprecated, please pass in a Service object\n",
      "  driver = webdriver.Chrome('chromedriver.exe')  #크롬 브라우저 띄우기\n"
     ]
    },
    {
     "data": {
      "text/html": [
       "<div>\n",
       "<style scoped>\n",
       "    .dataframe tbody tr th:only-of-type {\n",
       "        vertical-align: middle;\n",
       "    }\n",
       "\n",
       "    .dataframe tbody tr th {\n",
       "        vertical-align: top;\n",
       "    }\n",
       "\n",
       "    .dataframe thead th {\n",
       "        text-align: right;\n",
       "    }\n",
       "</style>\n",
       "<table border=\"1\" class=\"dataframe\">\n",
       "  <thead>\n",
       "    <tr style=\"text-align: right;\">\n",
       "      <th></th>\n",
       "      <th>차트</th>\n",
       "      <th>순위</th>\n",
       "      <th>타이틀</th>\n",
       "      <th>가수</th>\n",
       "    </tr>\n",
       "  </thead>\n",
       "  <tbody>\n",
       "    <tr>\n",
       "      <th>0</th>\n",
       "      <td>Genie</td>\n",
       "      <td>1</td>\n",
       "      <td>That That (Prod. &amp; Feat. SUGA of BTS)</td>\n",
       "      <td>싸이 (Psy)</td>\n",
       "    </tr>\n",
       "    <tr>\n",
       "      <th>1</th>\n",
       "      <td>Genie</td>\n",
       "      <td>2</td>\n",
       "      <td>TOMBOY</td>\n",
       "      <td>(여자)아이들</td>\n",
       "    </tr>\n",
       "    <tr>\n",
       "      <th>2</th>\n",
       "      <td>Genie</td>\n",
       "      <td>3</td>\n",
       "      <td>LOVE DIVE</td>\n",
       "      <td>IVE (아이브)</td>\n",
       "    </tr>\n",
       "    <tr>\n",
       "      <th>3</th>\n",
       "      <td>Genie</td>\n",
       "      <td>4</td>\n",
       "      <td>봄여름가을겨울 (Still Life)</td>\n",
       "      <td>BIGBANG (빅뱅)</td>\n",
       "    </tr>\n",
       "    <tr>\n",
       "      <th>4</th>\n",
       "      <td>Genie</td>\n",
       "      <td>5</td>\n",
       "      <td>사랑인가 봐</td>\n",
       "      <td>멜로망스 (MeloMance)</td>\n",
       "    </tr>\n",
       "    <tr>\n",
       "      <th>5</th>\n",
       "      <td>Genie</td>\n",
       "      <td>6</td>\n",
       "      <td>Feel My Rhythm</td>\n",
       "      <td>Red Velvet (레드벨벳)</td>\n",
       "    </tr>\n",
       "    <tr>\n",
       "      <th>6</th>\n",
       "      <td>Genie</td>\n",
       "      <td>7</td>\n",
       "      <td>LOVE me</td>\n",
       "      <td>BE'O (비오)</td>\n",
       "    </tr>\n",
       "    <tr>\n",
       "      <th>7</th>\n",
       "      <td>Genie</td>\n",
       "      <td>8</td>\n",
       "      <td>GANADARA (Feat. 아이유)</td>\n",
       "      <td>박재범</td>\n",
       "    </tr>\n",
       "    <tr>\n",
       "      <th>8</th>\n",
       "      <td>Genie</td>\n",
       "      <td>9</td>\n",
       "      <td>사랑은 늘 도망가</td>\n",
       "      <td>임영웅</td>\n",
       "    </tr>\n",
       "    <tr>\n",
       "      <th>9</th>\n",
       "      <td>Genie</td>\n",
       "      <td>10</td>\n",
       "      <td>ZOOM</td>\n",
       "      <td>제시</td>\n",
       "    </tr>\n",
       "    <tr>\n",
       "      <th>10</th>\n",
       "      <td>Genie</td>\n",
       "      <td>11</td>\n",
       "      <td>취중고백</td>\n",
       "      <td>김민석 (멜로망스)</td>\n",
       "    </tr>\n",
       "    <tr>\n",
       "      <th>11</th>\n",
       "      <td>Genie</td>\n",
       "      <td>12</td>\n",
       "      <td>나의 X에게</td>\n",
       "      <td>경서</td>\n",
       "    </tr>\n",
       "    <tr>\n",
       "      <th>12</th>\n",
       "      <td>Genie</td>\n",
       "      <td>13</td>\n",
       "      <td>우리들의 블루스</td>\n",
       "      <td>임영웅</td>\n",
       "    </tr>\n",
       "    <tr>\n",
       "      <th>13</th>\n",
       "      <td>Genie</td>\n",
       "      <td>14</td>\n",
       "      <td>INVU</td>\n",
       "      <td>태연 (TAEYEON)</td>\n",
       "    </tr>\n",
       "    <tr>\n",
       "      <th>14</th>\n",
       "      <td>Genie</td>\n",
       "      <td>15</td>\n",
       "      <td>신호등</td>\n",
       "      <td>이무진</td>\n",
       "    </tr>\n",
       "    <tr>\n",
       "      <th>15</th>\n",
       "      <td>Genie</td>\n",
       "      <td>16</td>\n",
       "      <td>듣고 싶을까</td>\n",
       "      <td>MSG워너비 (M.O.M)</td>\n",
       "    </tr>\n",
       "    <tr>\n",
       "      <th>16</th>\n",
       "      <td>Genie</td>\n",
       "      <td>17</td>\n",
       "      <td>다정히 내 이름을 부르면</td>\n",
       "      <td>경서예지 &amp; 전건호</td>\n",
       "    </tr>\n",
       "    <tr>\n",
       "      <th>17</th>\n",
       "      <td>Genie</td>\n",
       "      <td>18</td>\n",
       "      <td>Celeb</td>\n",
       "      <td>싸이 (Psy)</td>\n",
       "    </tr>\n",
       "    <tr>\n",
       "      <th>18</th>\n",
       "      <td>Genie</td>\n",
       "      <td>19</td>\n",
       "      <td>Stay</td>\n",
       "      <td>The Kid LAROI &amp; Justin Bieber</td>\n",
       "    </tr>\n",
       "    <tr>\n",
       "      <th>19</th>\n",
       "      <td>Genie</td>\n",
       "      <td>20</td>\n",
       "      <td>다시 만날 수 있을까</td>\n",
       "      <td>임영웅</td>\n",
       "    </tr>\n",
       "    <tr>\n",
       "      <th>20</th>\n",
       "      <td>Genie</td>\n",
       "      <td>21</td>\n",
       "      <td>MY BAG</td>\n",
       "      <td>(여자)아이들</td>\n",
       "    </tr>\n",
       "    <tr>\n",
       "      <th>21</th>\n",
       "      <td>Genie</td>\n",
       "      <td>22</td>\n",
       "      <td>ELEVEN</td>\n",
       "      <td>IVE (아이브)</td>\n",
       "    </tr>\n",
       "    <tr>\n",
       "      <th>22</th>\n",
       "      <td>Genie</td>\n",
       "      <td>23</td>\n",
       "      <td>이제 나만 믿어요</td>\n",
       "      <td>임영웅</td>\n",
       "    </tr>\n",
       "    <tr>\n",
       "      <th>23</th>\n",
       "      <td>Genie</td>\n",
       "      <td>24</td>\n",
       "      <td>FEARLESS</td>\n",
       "      <td>LE SSERAFIM (르세라핌)</td>\n",
       "    </tr>\n",
       "    <tr>\n",
       "      <th>24</th>\n",
       "      <td>Genie</td>\n",
       "      <td>25</td>\n",
       "      <td>회전목마 (Feat. Zion.T &amp; 원슈타인) (Prod. by Slom)</td>\n",
       "      <td>sokodomo</td>\n",
       "    </tr>\n",
       "    <tr>\n",
       "      <th>25</th>\n",
       "      <td>Genie</td>\n",
       "      <td>26</td>\n",
       "      <td>정이라고 하자 (Feat. 10CM)</td>\n",
       "      <td>BIG Naughty (서동현)</td>\n",
       "    </tr>\n",
       "    <tr>\n",
       "      <th>26</th>\n",
       "      <td>Genie</td>\n",
       "      <td>27</td>\n",
       "      <td>안녕이란 말</td>\n",
       "      <td>정승환</td>\n",
       "    </tr>\n",
       "    <tr>\n",
       "      <th>27</th>\n",
       "      <td>Genie</td>\n",
       "      <td>28</td>\n",
       "      <td>감동이야 (Feat. 성시경)</td>\n",
       "      <td>싸이 (Psy)</td>\n",
       "    </tr>\n",
       "    <tr>\n",
       "      <th>28</th>\n",
       "      <td>Genie</td>\n",
       "      <td>29</td>\n",
       "      <td>19금\\n                                        \\...</td>\n",
       "      <td>GAYLE</td>\n",
       "    </tr>\n",
       "    <tr>\n",
       "      <th>29</th>\n",
       "      <td>Genie</td>\n",
       "      <td>30</td>\n",
       "      <td>무지개</td>\n",
       "      <td>임영웅</td>\n",
       "    </tr>\n",
       "    <tr>\n",
       "      <th>30</th>\n",
       "      <td>Genie</td>\n",
       "      <td>31</td>\n",
       "      <td>strawberry moon</td>\n",
       "      <td>아이유 (IU)</td>\n",
       "    </tr>\n",
       "    <tr>\n",
       "      <th>31</th>\n",
       "      <td>Genie</td>\n",
       "      <td>32</td>\n",
       "      <td>아버지</td>\n",
       "      <td>임영웅</td>\n",
       "    </tr>\n",
       "    <tr>\n",
       "      <th>32</th>\n",
       "      <td>Genie</td>\n",
       "      <td>33</td>\n",
       "      <td>리무진 (Feat. MINO) (Prod. by GRAY)</td>\n",
       "      <td>BE'O (비오)</td>\n",
       "    </tr>\n",
       "    <tr>\n",
       "      <th>33</th>\n",
       "      <td>Genie</td>\n",
       "      <td>34</td>\n",
       "      <td>너를 생각해</td>\n",
       "      <td>주시크 (Joosiq)</td>\n",
       "    </tr>\n",
       "    <tr>\n",
       "      <th>34</th>\n",
       "      <td>Genie</td>\n",
       "      <td>35</td>\n",
       "      <td>Stronger (What Doesn't Kill You)</td>\n",
       "      <td>Kelly Clarkson</td>\n",
       "    </tr>\n",
       "    <tr>\n",
       "      <th>35</th>\n",
       "      <td>Genie</td>\n",
       "      <td>36</td>\n",
       "      <td>언제나 사랑해</td>\n",
       "      <td>케이시 (Kassy)</td>\n",
       "    </tr>\n",
       "    <tr>\n",
       "      <th>36</th>\n",
       "      <td>Genie</td>\n",
       "      <td>37</td>\n",
       "      <td>A bientot</td>\n",
       "      <td>임영웅</td>\n",
       "    </tr>\n",
       "    <tr>\n",
       "      <th>37</th>\n",
       "      <td>Genie</td>\n",
       "      <td>38</td>\n",
       "      <td>Next Level</td>\n",
       "      <td>aespa</td>\n",
       "    </tr>\n",
       "    <tr>\n",
       "      <th>38</th>\n",
       "      <td>Genie</td>\n",
       "      <td>39</td>\n",
       "      <td>손이 참 곱던 그대</td>\n",
       "      <td>임영웅</td>\n",
       "    </tr>\n",
       "    <tr>\n",
       "      <th>39</th>\n",
       "      <td>Genie</td>\n",
       "      <td>40</td>\n",
       "      <td>사랑해 진짜</td>\n",
       "      <td>임영웅</td>\n",
       "    </tr>\n",
       "    <tr>\n",
       "      <th>40</th>\n",
       "      <td>Genie</td>\n",
       "      <td>41</td>\n",
       "      <td>너의 모든 순간</td>\n",
       "      <td>성시경</td>\n",
       "    </tr>\n",
       "    <tr>\n",
       "      <th>41</th>\n",
       "      <td>Genie</td>\n",
       "      <td>42</td>\n",
       "      <td>Weekend</td>\n",
       "      <td>태연 (TAEYEON)</td>\n",
       "    </tr>\n",
       "    <tr>\n",
       "      <th>42</th>\n",
       "      <td>Genie</td>\n",
       "      <td>43</td>\n",
       "      <td>연애편지</td>\n",
       "      <td>임영웅</td>\n",
       "    </tr>\n",
       "    <tr>\n",
       "      <th>43</th>\n",
       "      <td>Genie</td>\n",
       "      <td>44</td>\n",
       "      <td>Bad Habits</td>\n",
       "      <td>Ed Sheeran</td>\n",
       "    </tr>\n",
       "    <tr>\n",
       "      <th>44</th>\n",
       "      <td>Genie</td>\n",
       "      <td>45</td>\n",
       "      <td>사랑역</td>\n",
       "      <td>임영웅</td>\n",
       "    </tr>\n",
       "    <tr>\n",
       "      <th>45</th>\n",
       "      <td>Genie</td>\n",
       "      <td>46</td>\n",
       "      <td>보금자리</td>\n",
       "      <td>임영웅</td>\n",
       "    </tr>\n",
       "    <tr>\n",
       "      <th>46</th>\n",
       "      <td>Genie</td>\n",
       "      <td>47</td>\n",
       "      <td>흔들리는 꽃들 속에서 네 샴푸향이 느껴진거야</td>\n",
       "      <td>장범준</td>\n",
       "    </tr>\n",
       "    <tr>\n",
       "      <th>47</th>\n",
       "      <td>Genie</td>\n",
       "      <td>48</td>\n",
       "      <td>스물다섯, 스물하나</td>\n",
       "      <td>자우림</td>\n",
       "    </tr>\n",
       "    <tr>\n",
       "      <th>48</th>\n",
       "      <td>Genie</td>\n",
       "      <td>49</td>\n",
       "      <td>OHAYO MY NIGHT</td>\n",
       "      <td>디핵 (D-Hack) &amp; PATEKO</td>\n",
       "    </tr>\n",
       "    <tr>\n",
       "      <th>49</th>\n",
       "      <td>Genie</td>\n",
       "      <td>50</td>\n",
       "      <td>사랑해요 그대를</td>\n",
       "      <td>임영웅</td>\n",
       "    </tr>\n",
       "  </tbody>\n",
       "</table>\n",
       "</div>"
      ],
      "text/plain": [
       "       차트  순위                                                타이틀  \\\n",
       "0   Genie   1              That That (Prod. & Feat. SUGA of BTS)   \n",
       "1   Genie   2                                             TOMBOY   \n",
       "2   Genie   3                                          LOVE DIVE   \n",
       "3   Genie   4                               봄여름가을겨울 (Still Life)   \n",
       "4   Genie   5                                             사랑인가 봐   \n",
       "5   Genie   6                                     Feel My Rhythm   \n",
       "6   Genie   7                                            LOVE me   \n",
       "7   Genie   8                               GANADARA (Feat. 아이유)   \n",
       "8   Genie   9                                          사랑은 늘 도망가   \n",
       "9   Genie  10                                               ZOOM   \n",
       "10  Genie  11                                               취중고백   \n",
       "11  Genie  12                                             나의 X에게   \n",
       "12  Genie  13                                           우리들의 블루스   \n",
       "13  Genie  14                                               INVU   \n",
       "14  Genie  15                                                신호등   \n",
       "15  Genie  16                                             듣고 싶을까   \n",
       "16  Genie  17                                      다정히 내 이름을 부르면   \n",
       "17  Genie  18                                              Celeb   \n",
       "18  Genie  19                                               Stay   \n",
       "19  Genie  20                                        다시 만날 수 있을까   \n",
       "20  Genie  21                                             MY BAG   \n",
       "21  Genie  22                                             ELEVEN   \n",
       "22  Genie  23                                          이제 나만 믿어요   \n",
       "23  Genie  24                                           FEARLESS   \n",
       "24  Genie  25         회전목마 (Feat. Zion.T & 원슈타인) (Prod. by Slom)   \n",
       "25  Genie  26                               정이라고 하자 (Feat. 10CM)   \n",
       "26  Genie  27                                             안녕이란 말   \n",
       "27  Genie  28                                   감동이야 (Feat. 성시경)   \n",
       "28  Genie  29  19금\\n                                        \\...   \n",
       "29  Genie  30                                                무지개   \n",
       "30  Genie  31                                    strawberry moon   \n",
       "31  Genie  32                                                아버지   \n",
       "32  Genie  33                   리무진 (Feat. MINO) (Prod. by GRAY)   \n",
       "33  Genie  34                                             너를 생각해   \n",
       "34  Genie  35                   Stronger (What Doesn't Kill You)   \n",
       "35  Genie  36                                            언제나 사랑해   \n",
       "36  Genie  37                                          A bientot   \n",
       "37  Genie  38                                         Next Level   \n",
       "38  Genie  39                                         손이 참 곱던 그대   \n",
       "39  Genie  40                                             사랑해 진짜   \n",
       "40  Genie  41                                           너의 모든 순간   \n",
       "41  Genie  42                                            Weekend   \n",
       "42  Genie  43                                               연애편지   \n",
       "43  Genie  44                                         Bad Habits   \n",
       "44  Genie  45                                                사랑역   \n",
       "45  Genie  46                                               보금자리   \n",
       "46  Genie  47                           흔들리는 꽃들 속에서 네 샴푸향이 느껴진거야   \n",
       "47  Genie  48                                         스물다섯, 스물하나   \n",
       "48  Genie  49                                     OHAYO MY NIGHT   \n",
       "49  Genie  50                                           사랑해요 그대를   \n",
       "\n",
       "                               가수  \n",
       "0                        싸이 (Psy)  \n",
       "1                         (여자)아이들  \n",
       "2                       IVE (아이브)  \n",
       "3                    BIGBANG (빅뱅)  \n",
       "4                멜로망스 (MeloMance)  \n",
       "5               Red Velvet (레드벨벳)  \n",
       "6                       BE'O (비오)  \n",
       "7                             박재범  \n",
       "8                             임영웅  \n",
       "9                              제시  \n",
       "10                     김민석 (멜로망스)  \n",
       "11                             경서  \n",
       "12                            임영웅  \n",
       "13                   태연 (TAEYEON)  \n",
       "14                            이무진  \n",
       "15                 MSG워너비 (M.O.M)  \n",
       "16                     경서예지 & 전건호  \n",
       "17                       싸이 (Psy)  \n",
       "18  The Kid LAROI & Justin Bieber  \n",
       "19                            임영웅  \n",
       "20                        (여자)아이들  \n",
       "21                      IVE (아이브)  \n",
       "22                            임영웅  \n",
       "23             LE SSERAFIM (르세라핌)  \n",
       "24                       sokodomo  \n",
       "25              BIG Naughty (서동현)  \n",
       "26                            정승환  \n",
       "27                       싸이 (Psy)  \n",
       "28                          GAYLE  \n",
       "29                            임영웅  \n",
       "30                       아이유 (IU)  \n",
       "31                            임영웅  \n",
       "32                      BE'O (비오)  \n",
       "33                   주시크 (Joosiq)  \n",
       "34                 Kelly Clarkson  \n",
       "35                    케이시 (Kassy)  \n",
       "36                            임영웅  \n",
       "37                          aespa  \n",
       "38                            임영웅  \n",
       "39                            임영웅  \n",
       "40                            성시경  \n",
       "41                   태연 (TAEYEON)  \n",
       "42                            임영웅  \n",
       "43                     Ed Sheeran  \n",
       "44                            임영웅  \n",
       "45                            임영웅  \n",
       "46                            장범준  \n",
       "47                            자우림  \n",
       "48           디핵 (D-Hack) & PATEKO  \n",
       "49                            임영웅  "
      ]
     },
     "execution_count": 39,
     "metadata": {},
     "output_type": "execute_result"
    }
   ],
   "source": [
    "song_data = []\n",
    "rank = 1\n",
    "\n",
    "driver = webdriver.Chrome('chromedriver.exe')  #크롬 브라우저 띄우기\n",
    "driver.get('https://www.genie.co.kr/chart/top200?ditc=D&ymd=20220513&hh=20&rtm=Y&pg=1')     #사이트 연결\n",
    "html = driver.page_source    \n",
    "\n",
    "songs = soup.select('tr.list')\n",
    "\n",
    "for song in songs:\n",
    "    title = song.select('a.title.ellipsis')[0].text.strip()\n",
    "    singer = song.select('a.artist.ellipsis')[0].text.strip()\n",
    "    song_data.append(['Genie', rank, title, singer])\n",
    "    rank += 1\n",
    "\n",
    "df = pd.DataFrame(song_data, columns = ['차트','순위','타이틀','가수'])\n",
    "df"
   ]
  }
 ],
 "metadata": {
  "interpreter": {
   "hash": "2043299c89c8cd0b4d1a6f5cf4529bd58e6a4e0fe3181a25e0d328c821cdc5c5"
  },
  "kernelspec": {
   "display_name": "Python 3.8.8 ('base')",
   "language": "python",
   "name": "python3"
  },
  "language_info": {
   "codemirror_mode": {
    "name": "ipython",
    "version": 3
   },
   "file_extension": ".py",
   "mimetype": "text/x-python",
   "name": "python",
   "nbconvert_exporter": "python",
   "pygments_lexer": "ipython3",
   "version": "3.8.8"
  },
  "orig_nbformat": 4
 },
 "nbformat": 4,
 "nbformat_minor": 2
}
