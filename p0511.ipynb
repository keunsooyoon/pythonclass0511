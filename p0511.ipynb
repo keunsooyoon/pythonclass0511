{
 "cells": [
  {
   "cell_type": "code",
   "execution_count": 3,
   "metadata": {},
   "outputs": [],
   "source": [
    "#!pip install BeautifulSoup\n"
   ]
  },
  {
   "cell_type": "code",
   "execution_count": 5,
   "metadata": {},
   "outputs": [],
   "source": [
    "import requests                       # 파이썬으로 웹연결\n",
    "from bs4 import BeautifulSoup as bs   # 데이터 분석을 용이하게 정제\n",
    "import pandas as pd                   # 데이터 분석 모듈"
   ]
  },
  {
   "cell_type": "code",
   "execution_count": 6,
   "metadata": {},
   "outputs": [],
   "source": [
    "html = requests.get('https://movie.naver.com/movie/sdb/rank/rmovie.naver?sel=cur&date=20220510')\n",
    "soup = bs(html.text)"
   ]
  },
  {
   "cell_type": "code",
   "execution_count": 7,
   "metadata": {},
   "outputs": [
    {
     "data": {
      "text/plain": [
       "53"
      ]
     },
     "execution_count": 7,
     "metadata": {},
     "output_type": "execute_result"
    }
   ],
   "source": [
    "len(soup.select('tr'))"
   ]
  },
  {
   "cell_type": "code",
   "execution_count": 8,
   "metadata": {},
   "outputs": [
    {
     "data": {
      "text/plain": [
       "321"
      ]
     },
     "execution_count": 8,
     "metadata": {},
     "output_type": "execute_result"
    }
   ],
   "source": [
    "len(soup.select('td'))"
   ]
  },
  {
   "cell_type": "code",
   "execution_count": 9,
   "metadata": {},
   "outputs": [
    {
     "data": {
      "text/plain": [
       "44"
      ]
     },
     "execution_count": 9,
     "metadata": {},
     "output_type": "execute_result"
    }
   ],
   "source": [
    "len(soup.select('td.title'))"
   ]
  },
  {
   "cell_type": "code",
   "execution_count": 12,
   "metadata": {},
   "outputs": [],
   "source": [
    "movies = soup.select('td.title')\n",
    "movie = movies[0]"
   ]
  },
  {
   "cell_type": "code",
   "execution_count": 15,
   "metadata": {},
   "outputs": [
    {
     "data": {
      "text/plain": [
       "'\\n\\n씽2게더\\n\\n'"
      ]
     },
     "execution_count": 15,
     "metadata": {},
     "output_type": "execute_result"
    }
   ],
   "source": [
    "movie.text"
   ]
  },
  {
   "cell_type": "code",
   "execution_count": 16,
   "metadata": {},
   "outputs": [
    {
     "data": {
      "text/plain": [
       "'씽2게더'"
      ]
     },
     "execution_count": 16,
     "metadata": {},
     "output_type": "execute_result"
    }
   ],
   "source": [
    "movie.text.strip()"
   ]
  },
  {
   "cell_type": "code",
   "execution_count": 17,
   "metadata": {},
   "outputs": [
    {
     "data": {
      "text/plain": [
       "44"
      ]
     },
     "execution_count": 17,
     "metadata": {},
     "output_type": "execute_result"
    }
   ],
   "source": [
    "len(soup.select('td.point'))"
   ]
  },
  {
   "cell_type": "code",
   "execution_count": 18,
   "metadata": {},
   "outputs": [
    {
     "data": {
      "text/plain": [
       "<td class=\"point\">9.39</td>"
      ]
     },
     "execution_count": 18,
     "metadata": {},
     "output_type": "execute_result"
    }
   ],
   "source": [
    "points = soup.select('td.point')\n",
    "point = points[0]\n",
    "point"
   ]
  },
  {
   "cell_type": "code",
   "execution_count": 20,
   "metadata": {},
   "outputs": [
    {
     "data": {
      "text/plain": [
       "'9.39'"
      ]
     },
     "execution_count": 20,
     "metadata": {},
     "output_type": "execute_result"
    }
   ],
   "source": [
    "point.text.strip()"
   ]
  },
  {
   "cell_type": "code",
   "execution_count": 21,
   "metadata": {},
   "outputs": [
    {
     "data": {
      "text/plain": [
       "[[1, '씽2게더', '9.39'],\n",
       " [2, '극장판 귀멸의 칼날: 무한열차편', '9.27'],\n",
       " [3, '극장판 주술회전 0', '9.26'],\n",
       " [4, '피아니스트의 전설', '9.25'],\n",
       " [5, '벤허', '9.23'],\n",
       " [6, '파수꾼', '9.18'],\n",
       " [7, '코다', '9.14'],\n",
       " [8, '와이키키 브라더스', '9.11'],\n",
       " [9, '피의 연대기', '9.09'],\n",
       " [10, '비긴 어게인', '9.04'],\n",
       " [11, '개를 훔치는 완벽한 방법', '9.00'],\n",
       " [12, '중경삼림', '8.90'],\n",
       " [13, '화양연화', '8.81'],\n",
       " [14, '찬실이는 복도 많지', '8.77'],\n",
       " [15, '바닷마을 다이어리', '8.73'],\n",
       " [16, '귀향', '8.67'],\n",
       " [17, '세자매', '8.67'],\n",
       " [18, '안경', '8.64'],\n",
       " [19, '라라랜드', '8.62'],\n",
       " [20, '공기살인', '8.61'],\n",
       " [21, '나쁜 교육', '8.46'],\n",
       " [22, '아비정전', '8.45'],\n",
       " [23, '드라이브 마이 카', '8.42'],\n",
       " [24, '모가디슈', '8.33'],\n",
       " [25, '신은 죽지 않았다 3: 어둠 속의 빛', '8.32'],\n",
       " [26, '어나더 라운드', '8.30'],\n",
       " [27, '수퍼 소닉2', '8.29'],\n",
       " [28, '언어의 정원', '8.18'],\n",
       " [29, '문라이즈 킹덤', '8.12'],\n",
       " [30, '루이스 웨인: 사랑을 그린 고양이 화가', '7.97'],\n",
       " [31, '날씨의 아이', '7.96'],\n",
       " [32, '한여름의 판타지아', '7.80'],\n",
       " [33, '니 부모 얼굴이 보고 싶다', '7.72'],\n",
       " [34, '스펜서', '7.71'],\n",
       " [35, '미나리', '7.57'],\n",
       " [36, '디어 에반 핸슨', '7.46'],\n",
       " [37, '아사코', '7.28'],\n",
       " [38, '닥터 스트레인지: 대혼돈의 멀티버스', '7.26'],\n",
       " [39, '앵커', '7.25'],\n",
       " [40, '신비한 동물들과 덤블도어의 비밀', '6.53'],\n",
       " [41, '불한당: 나쁜 놈들의 세상', '6.50'],\n",
       " [42, '로스트 시티', '6.16'],\n",
       " [43, '노회찬6411', '6.05'],\n",
       " [44, '서울괴담', '4.56']]"
      ]
     },
     "execution_count": 21,
     "metadata": {},
     "output_type": "execute_result"
    }
   ],
   "source": [
    "movielist = []\n",
    "rank = 1\n",
    "\n",
    "movies = soup.select('td.title')   # 영화제목 44개\n",
    "points = soup.select('td.point')   # 영화평점 44개\n",
    "\n",
    "for each in range(len(soup.select('td.point'))):  # 44번 반복\n",
    "    title = movies[each].text.strip()\n",
    "    point = points[each].text.strip()\n",
    "    movielist.append([rank, title, point])\n",
    "    rank += 1\n",
    "\n",
    "movielist"
   ]
  },
  {
   "cell_type": "code",
   "execution_count": null,
   "metadata": {},
   "outputs": [],
   "source": []
  },
  {
   "cell_type": "code",
   "execution_count": 23,
   "metadata": {},
   "outputs": [
    {
     "data": {
      "text/html": [
       "<div>\n",
       "<style scoped>\n",
       "    .dataframe tbody tr th:only-of-type {\n",
       "        vertical-align: middle;\n",
       "    }\n",
       "\n",
       "    .dataframe tbody tr th {\n",
       "        vertical-align: top;\n",
       "    }\n",
       "\n",
       "    .dataframe thead th {\n",
       "        text-align: right;\n",
       "    }\n",
       "</style>\n",
       "<table border=\"1\" class=\"dataframe\">\n",
       "  <thead>\n",
       "    <tr style=\"text-align: right;\">\n",
       "      <th></th>\n",
       "      <th>순위</th>\n",
       "      <th>제목</th>\n",
       "      <th>평점</th>\n",
       "    </tr>\n",
       "  </thead>\n",
       "  <tbody>\n",
       "    <tr>\n",
       "      <th>0</th>\n",
       "      <td>1</td>\n",
       "      <td>씽2게더</td>\n",
       "      <td>9.39</td>\n",
       "    </tr>\n",
       "    <tr>\n",
       "      <th>1</th>\n",
       "      <td>2</td>\n",
       "      <td>극장판 귀멸의 칼날: 무한열차편</td>\n",
       "      <td>9.27</td>\n",
       "    </tr>\n",
       "    <tr>\n",
       "      <th>2</th>\n",
       "      <td>3</td>\n",
       "      <td>극장판 주술회전 0</td>\n",
       "      <td>9.26</td>\n",
       "    </tr>\n",
       "    <tr>\n",
       "      <th>3</th>\n",
       "      <td>4</td>\n",
       "      <td>피아니스트의 전설</td>\n",
       "      <td>9.25</td>\n",
       "    </tr>\n",
       "    <tr>\n",
       "      <th>4</th>\n",
       "      <td>5</td>\n",
       "      <td>벤허</td>\n",
       "      <td>9.23</td>\n",
       "    </tr>\n",
       "    <tr>\n",
       "      <th>5</th>\n",
       "      <td>6</td>\n",
       "      <td>파수꾼</td>\n",
       "      <td>9.18</td>\n",
       "    </tr>\n",
       "    <tr>\n",
       "      <th>6</th>\n",
       "      <td>7</td>\n",
       "      <td>코다</td>\n",
       "      <td>9.14</td>\n",
       "    </tr>\n",
       "    <tr>\n",
       "      <th>7</th>\n",
       "      <td>8</td>\n",
       "      <td>와이키키 브라더스</td>\n",
       "      <td>9.11</td>\n",
       "    </tr>\n",
       "    <tr>\n",
       "      <th>8</th>\n",
       "      <td>9</td>\n",
       "      <td>피의 연대기</td>\n",
       "      <td>9.09</td>\n",
       "    </tr>\n",
       "    <tr>\n",
       "      <th>9</th>\n",
       "      <td>10</td>\n",
       "      <td>비긴 어게인</td>\n",
       "      <td>9.04</td>\n",
       "    </tr>\n",
       "    <tr>\n",
       "      <th>10</th>\n",
       "      <td>11</td>\n",
       "      <td>개를 훔치는 완벽한 방법</td>\n",
       "      <td>9.00</td>\n",
       "    </tr>\n",
       "    <tr>\n",
       "      <th>11</th>\n",
       "      <td>12</td>\n",
       "      <td>중경삼림</td>\n",
       "      <td>8.90</td>\n",
       "    </tr>\n",
       "    <tr>\n",
       "      <th>12</th>\n",
       "      <td>13</td>\n",
       "      <td>화양연화</td>\n",
       "      <td>8.81</td>\n",
       "    </tr>\n",
       "    <tr>\n",
       "      <th>13</th>\n",
       "      <td>14</td>\n",
       "      <td>찬실이는 복도 많지</td>\n",
       "      <td>8.77</td>\n",
       "    </tr>\n",
       "    <tr>\n",
       "      <th>14</th>\n",
       "      <td>15</td>\n",
       "      <td>바닷마을 다이어리</td>\n",
       "      <td>8.73</td>\n",
       "    </tr>\n",
       "    <tr>\n",
       "      <th>15</th>\n",
       "      <td>16</td>\n",
       "      <td>귀향</td>\n",
       "      <td>8.67</td>\n",
       "    </tr>\n",
       "    <tr>\n",
       "      <th>16</th>\n",
       "      <td>17</td>\n",
       "      <td>세자매</td>\n",
       "      <td>8.67</td>\n",
       "    </tr>\n",
       "    <tr>\n",
       "      <th>17</th>\n",
       "      <td>18</td>\n",
       "      <td>안경</td>\n",
       "      <td>8.64</td>\n",
       "    </tr>\n",
       "    <tr>\n",
       "      <th>18</th>\n",
       "      <td>19</td>\n",
       "      <td>라라랜드</td>\n",
       "      <td>8.62</td>\n",
       "    </tr>\n",
       "    <tr>\n",
       "      <th>19</th>\n",
       "      <td>20</td>\n",
       "      <td>공기살인</td>\n",
       "      <td>8.61</td>\n",
       "    </tr>\n",
       "    <tr>\n",
       "      <th>20</th>\n",
       "      <td>21</td>\n",
       "      <td>나쁜 교육</td>\n",
       "      <td>8.46</td>\n",
       "    </tr>\n",
       "    <tr>\n",
       "      <th>21</th>\n",
       "      <td>22</td>\n",
       "      <td>아비정전</td>\n",
       "      <td>8.45</td>\n",
       "    </tr>\n",
       "    <tr>\n",
       "      <th>22</th>\n",
       "      <td>23</td>\n",
       "      <td>드라이브 마이 카</td>\n",
       "      <td>8.42</td>\n",
       "    </tr>\n",
       "    <tr>\n",
       "      <th>23</th>\n",
       "      <td>24</td>\n",
       "      <td>모가디슈</td>\n",
       "      <td>8.33</td>\n",
       "    </tr>\n",
       "    <tr>\n",
       "      <th>24</th>\n",
       "      <td>25</td>\n",
       "      <td>신은 죽지 않았다 3: 어둠 속의 빛</td>\n",
       "      <td>8.32</td>\n",
       "    </tr>\n",
       "    <tr>\n",
       "      <th>25</th>\n",
       "      <td>26</td>\n",
       "      <td>어나더 라운드</td>\n",
       "      <td>8.30</td>\n",
       "    </tr>\n",
       "    <tr>\n",
       "      <th>26</th>\n",
       "      <td>27</td>\n",
       "      <td>수퍼 소닉2</td>\n",
       "      <td>8.29</td>\n",
       "    </tr>\n",
       "    <tr>\n",
       "      <th>27</th>\n",
       "      <td>28</td>\n",
       "      <td>언어의 정원</td>\n",
       "      <td>8.18</td>\n",
       "    </tr>\n",
       "    <tr>\n",
       "      <th>28</th>\n",
       "      <td>29</td>\n",
       "      <td>문라이즈 킹덤</td>\n",
       "      <td>8.12</td>\n",
       "    </tr>\n",
       "    <tr>\n",
       "      <th>29</th>\n",
       "      <td>30</td>\n",
       "      <td>루이스 웨인: 사랑을 그린 고양이 화가</td>\n",
       "      <td>7.97</td>\n",
       "    </tr>\n",
       "    <tr>\n",
       "      <th>30</th>\n",
       "      <td>31</td>\n",
       "      <td>날씨의 아이</td>\n",
       "      <td>7.96</td>\n",
       "    </tr>\n",
       "    <tr>\n",
       "      <th>31</th>\n",
       "      <td>32</td>\n",
       "      <td>한여름의 판타지아</td>\n",
       "      <td>7.80</td>\n",
       "    </tr>\n",
       "    <tr>\n",
       "      <th>32</th>\n",
       "      <td>33</td>\n",
       "      <td>니 부모 얼굴이 보고 싶다</td>\n",
       "      <td>7.72</td>\n",
       "    </tr>\n",
       "    <tr>\n",
       "      <th>33</th>\n",
       "      <td>34</td>\n",
       "      <td>스펜서</td>\n",
       "      <td>7.71</td>\n",
       "    </tr>\n",
       "    <tr>\n",
       "      <th>34</th>\n",
       "      <td>35</td>\n",
       "      <td>미나리</td>\n",
       "      <td>7.57</td>\n",
       "    </tr>\n",
       "    <tr>\n",
       "      <th>35</th>\n",
       "      <td>36</td>\n",
       "      <td>디어 에반 핸슨</td>\n",
       "      <td>7.46</td>\n",
       "    </tr>\n",
       "    <tr>\n",
       "      <th>36</th>\n",
       "      <td>37</td>\n",
       "      <td>아사코</td>\n",
       "      <td>7.28</td>\n",
       "    </tr>\n",
       "    <tr>\n",
       "      <th>37</th>\n",
       "      <td>38</td>\n",
       "      <td>닥터 스트레인지: 대혼돈의 멀티버스</td>\n",
       "      <td>7.26</td>\n",
       "    </tr>\n",
       "    <tr>\n",
       "      <th>38</th>\n",
       "      <td>39</td>\n",
       "      <td>앵커</td>\n",
       "      <td>7.25</td>\n",
       "    </tr>\n",
       "    <tr>\n",
       "      <th>39</th>\n",
       "      <td>40</td>\n",
       "      <td>신비한 동물들과 덤블도어의 비밀</td>\n",
       "      <td>6.53</td>\n",
       "    </tr>\n",
       "    <tr>\n",
       "      <th>40</th>\n",
       "      <td>41</td>\n",
       "      <td>불한당: 나쁜 놈들의 세상</td>\n",
       "      <td>6.50</td>\n",
       "    </tr>\n",
       "    <tr>\n",
       "      <th>41</th>\n",
       "      <td>42</td>\n",
       "      <td>로스트 시티</td>\n",
       "      <td>6.16</td>\n",
       "    </tr>\n",
       "    <tr>\n",
       "      <th>42</th>\n",
       "      <td>43</td>\n",
       "      <td>노회찬6411</td>\n",
       "      <td>6.05</td>\n",
       "    </tr>\n",
       "    <tr>\n",
       "      <th>43</th>\n",
       "      <td>44</td>\n",
       "      <td>서울괴담</td>\n",
       "      <td>4.56</td>\n",
       "    </tr>\n",
       "  </tbody>\n",
       "</table>\n",
       "</div>"
      ],
      "text/plain": [
       "    순위                     제목    평점\n",
       "0    1                   씽2게더  9.39\n",
       "1    2      극장판 귀멸의 칼날: 무한열차편  9.27\n",
       "2    3             극장판 주술회전 0  9.26\n",
       "3    4              피아니스트의 전설  9.25\n",
       "4    5                     벤허  9.23\n",
       "5    6                    파수꾼  9.18\n",
       "6    7                     코다  9.14\n",
       "7    8              와이키키 브라더스  9.11\n",
       "8    9                 피의 연대기  9.09\n",
       "9   10                 비긴 어게인  9.04\n",
       "10  11          개를 훔치는 완벽한 방법  9.00\n",
       "11  12                   중경삼림  8.90\n",
       "12  13                   화양연화  8.81\n",
       "13  14             찬실이는 복도 많지  8.77\n",
       "14  15              바닷마을 다이어리  8.73\n",
       "15  16                     귀향  8.67\n",
       "16  17                    세자매  8.67\n",
       "17  18                     안경  8.64\n",
       "18  19                   라라랜드  8.62\n",
       "19  20                   공기살인  8.61\n",
       "20  21                  나쁜 교육  8.46\n",
       "21  22                   아비정전  8.45\n",
       "22  23              드라이브 마이 카  8.42\n",
       "23  24                   모가디슈  8.33\n",
       "24  25   신은 죽지 않았다 3: 어둠 속의 빛  8.32\n",
       "25  26                어나더 라운드  8.30\n",
       "26  27                 수퍼 소닉2  8.29\n",
       "27  28                 언어의 정원  8.18\n",
       "28  29                문라이즈 킹덤  8.12\n",
       "29  30  루이스 웨인: 사랑을 그린 고양이 화가  7.97\n",
       "30  31                 날씨의 아이  7.96\n",
       "31  32              한여름의 판타지아  7.80\n",
       "32  33         니 부모 얼굴이 보고 싶다  7.72\n",
       "33  34                    스펜서  7.71\n",
       "34  35                    미나리  7.57\n",
       "35  36               디어 에반 핸슨  7.46\n",
       "36  37                    아사코  7.28\n",
       "37  38    닥터 스트레인지: 대혼돈의 멀티버스  7.26\n",
       "38  39                     앵커  7.25\n",
       "39  40      신비한 동물들과 덤블도어의 비밀  6.53\n",
       "40  41         불한당: 나쁜 놈들의 세상  6.50\n",
       "41  42                 로스트 시티  6.16\n",
       "42  43                노회찬6411  6.05\n",
       "43  44                   서울괴담  4.56"
      ]
     },
     "execution_count": 23,
     "metadata": {},
     "output_type": "execute_result"
    }
   ],
   "source": [
    "df = pd.DataFrame(movielist, columns = ['순위','제목','평점'])\n",
    "df"
   ]
  },
  {
   "cell_type": "code",
   "execution_count": 24,
   "metadata": {},
   "outputs": [],
   "source": [
    "#################################################################\n",
    "# 벅스 음원 차트 크롤링\n",
    "\n",
    "import requests                      # 파이썬으로 웹페이지 연결\n",
    "from bs4 import BeautifulSoup as bs  # 분석을 용이하게 정제\n",
    "import pandas as pd                  # 데이터 분석 관련 모듈\n"
   ]
  },
  {
   "cell_type": "code",
   "execution_count": 25,
   "metadata": {},
   "outputs": [],
   "source": [
    "html = requests.get('https://music.bugs.co.kr/chart')  # 페이지 소스 읽어오기\n",
    "soup = bs(html.text)                                   # 소스 정제"
   ]
  },
  {
   "cell_type": "code",
   "execution_count": 26,
   "metadata": {},
   "outputs": [
    {
     "data": {
      "text/plain": [
       "104"
      ]
     },
     "execution_count": 26,
     "metadata": {},
     "output_type": "execute_result"
    }
   ],
   "source": [
    "len(soup.select('tr'))"
   ]
  },
  {
   "cell_type": "code",
   "execution_count": 27,
   "metadata": {},
   "outputs": [
    {
     "data": {
      "text/plain": [
       "311"
      ]
     },
     "execution_count": 27,
     "metadata": {},
     "output_type": "execute_result"
    }
   ],
   "source": [
    "len(soup.select('p'))"
   ]
  },
  {
   "cell_type": "code",
   "execution_count": 28,
   "metadata": {},
   "outputs": [
    {
     "data": {
      "text/plain": [
       "100"
      ]
     },
     "execution_count": 28,
     "metadata": {},
     "output_type": "execute_result"
    }
   ],
   "source": [
    "len(soup.select('p.title'))"
   ]
  },
  {
   "cell_type": "code",
   "execution_count": 29,
   "metadata": {},
   "outputs": [
    {
     "data": {
      "text/plain": [
       "<p adult_yn=\"N\" class=\"title\">\n",
       "<a adultcheckval=\"1\" aria-label=\"새창\" href=\"javascript:;\" onclick=\"bugs.wiselog.area('list_tr_09_chart');bugs.music.listen('32530582',true);\n",
       "\" title=\"That That (prod. &amp; feat. SUGA of BTS)\">That That (prod. &amp; feat. SUGA of BTS)</a>\n",
       "</p>"
      ]
     },
     "execution_count": 29,
     "metadata": {},
     "output_type": "execute_result"
    }
   ],
   "source": [
    "titles = soup.select('p.title')\n",
    "title = titles[0]\n",
    "title"
   ]
  },
  {
   "cell_type": "code",
   "execution_count": 30,
   "metadata": {},
   "outputs": [
    {
     "data": {
      "text/plain": [
       "<a adultcheckval=\"1\" aria-label=\"새창\" href=\"javascript:;\" onclick=\"bugs.wiselog.area('list_tr_09_chart');bugs.music.listen('32530582',true);\n",
       "\" title=\"That That (prod. &amp; feat. SUGA of BTS)\">That That (prod. &amp; feat. SUGA of BTS)</a>"
      ]
     },
     "execution_count": 30,
     "metadata": {},
     "output_type": "execute_result"
    }
   ],
   "source": [
    "titles = soup.select('p.title > a')\n",
    "title = titles[0]\n",
    "title"
   ]
  },
  {
   "cell_type": "code",
   "execution_count": 32,
   "metadata": {},
   "outputs": [
    {
     "data": {
      "text/plain": [
       "'That That (prod. & feat. SUGA of BTS)'"
      ]
     },
     "execution_count": 32,
     "metadata": {},
     "output_type": "execute_result"
    }
   ],
   "source": [
    "title.text.strip()"
   ]
  },
  {
   "cell_type": "code",
   "execution_count": 34,
   "metadata": {},
   "outputs": [
    {
     "data": {
      "text/plain": [
       "'싸이 (PSY)'"
      ]
     },
     "execution_count": 34,
     "metadata": {},
     "output_type": "execute_result"
    }
   ],
   "source": [
    "# 0번째 가수명 추출\n",
    "artists = soup.select('p.artist > a')\n",
    "artist = artists[0]\n",
    "artist.text.strip()\n"
   ]
  },
  {
   "cell_type": "code",
   "execution_count": 36,
   "metadata": {},
   "outputs": [
    {
     "data": {
      "text/plain": [
       "[['Bugs', 1, 'That That (prod. & feat. SUGA of BTS)', '싸이 (PSY)'],\n",
       " ['Bugs', 2, 'LOVE DIVE', 'IVE (아이브)'],\n",
       " ['Bugs', 3, '초록을거머쥔우리는', '잔나비'],\n",
       " ['Bugs', 4, 'TOMBOY', '(여자)아이들'],\n",
       " ['Bugs', 5, 'FEARLESS', 'LE SSERAFIM (르세라핌)'],\n",
       " ['Bugs', 6, 'Celeb', '싸이 (PSY)'],\n",
       " ['Bugs', 7, 'ZOOM', '제시(Jessi)'],\n",
       " ['Bugs', 8, '사랑인가 봐', '멜로망스(MeloMance)'],\n",
       " ['Bugs', 9, '봄여름가을겨울 (Still Life)', 'BIGBANG (빅뱅)'],\n",
       " ['Bugs', 10, 'Feel My Rhythm', 'Red Velvet (레드벨벳)'],\n",
       " ['Bugs', 11, 'MY BAG', '(여자)아이들'],\n",
       " ['Bugs', 12, \"That's Hilarious\", 'Charlie Puth(찰리 푸스)'],\n",
       " ['Bugs', 13, 'INVU', '태연 (TAEYEON)'],\n",
       " ['Bugs', 14, 'LOVE me', \"BE'O (비오)\"],\n",
       " ['Bugs', 15, 'Drive', '미연 ((여자)아이들)'],\n",
       " ['Bugs', 16, '나의 X에게', '경서'],\n",
       " ['Bugs', 17, '감동이야 (feat. 성시경)', '싸이 (PSY)'],\n",
       " ['Bugs', 18, '여름가을겨울\\xa0\\xa0봄.', '잔나비'],\n",
       " ['Bugs', 19, 'With you', '지민'],\n",
       " ['Bugs', 20, '봄 to 러브', '지민'],\n",
       " ['Bugs', 21, 'Whisky on the Rock', '10CM'],\n",
       " ['Bugs', 22, '신호등', '김연지'],\n",
       " ['Bugs', 23, '밤이 깊었네 (feat. 헤이즈)', '이무진'],\n",
       " ['Bugs', 24, '정이라고 하자 (Feat. 10CM)', '싸이 (PSY)'],\n",
       " ['Bugs', 25, '슬픔이여안녕', 'BIG Naughty (서동현)'],\n",
       " ['Bugs', 26, '취중고백', '잔나비'],\n",
       " ['Bugs', 27, 'Seoul', '김민석 (멜로망스)'],\n",
       " ['Bugs', 28, '다정히 내 이름을 부르면', '볼빨간사춘기'],\n",
       " ['Bugs', 29, '듣고 싶을까', '경서예지'],\n",
       " ['Bugs', 30, 'SMILEY (Feat. BIBI)', '경서예지'],\n",
       " ['Bugs', 31, 'O.O', 'MSG워너비(M.O.M)'],\n",
       " ['Bugs', 32, '레이디버드', 'YENA (최예나)'],\n",
       " ['Bugs', 33, '내 곁에', 'NMIXX'],\n",
       " ['Bugs', 34, 'ELEVEN', '잔나비'],\n",
       " ['Bugs', 35, 'GANADARA (Feat. 아이유)', '태연 (TAEYEON)'],\n",
       " ['Bugs', 36, '기억해 줘요', 'IVE (아이브)'],\n",
       " ['Bugs', 37, '이제는 (feat. 화사)', '박재범'],\n",
       " ['Bugs', 38, \"All 4 Nothing (I'm So In Love)\", '다비치'],\n",
       " ['Bugs', 39, 'Permission to Dance', '싸이 (PSY)'],\n",
       " ['Bugs', 40, 'Next Level', 'Lauv(라우브)'],\n",
       " ['Bugs', 41, '2step (feat. Lil Baby)', '방탄소년단'],\n",
       " ['Bugs', 42, 'RUN2U', 'aespa'],\n",
       " ['Bugs', 43, '초대', 'Ed Sheeran(에드 시런)'],\n",
       " ['Bugs', 44, 'STAY', 'STAYC(스테이씨)'],\n",
       " ['Bugs', 45, '문득', '멜로망스(MeloMance)'],\n",
       " ['Bugs', 46, 'Weekend', 'The Kid LAROI'],\n",
       " ['Bugs', 47, '우리들의 블루스', 'The Kid LAROI'],\n",
       " ['Bugs', 48, 'strawberry moon', \"BE'O (비오)\"],\n",
       " ['Bugs', 49, '드라마', '태연 (TAEYEON)'],\n",
       " ['Bugs', 50, 'Real Love', '임영웅'],\n",
       " ['Bugs', 51, 'Butter', '아이유(IU)'],\n",
       " ['Bugs', 52, 'Love story', '아이유(IU)'],\n",
       " ['Bugs', 53, 'Light Switch', '오마이걸(OH MY GIRL)'],\n",
       " ['Bugs', 54, 'Dynamite', '방탄소년단'],\n",
       " ['Bugs', 55, 'Off My Face', '볼빨간사춘기'],\n",
       " ['Bugs', 56, '존재만으로', 'Charlie Puth(찰리 푸스)'],\n",
       " ['Bugs', 57, '라일락', '방탄소년단'],\n",
       " ['Bugs', 58, \"Stronger (What Doesn't Kill You)\", 'Justin Bieber(저스틴 비버)'],\n",
       " ['Bugs', 59, '너를 생각해', '원슈타인'],\n",
       " ['Bugs', 60, '사랑은 늘 도망가', '아이유(IU)'],\n",
       " ['Bugs', 61, 'As It Was', 'Kelly Clarkson(켈리 클락슨)'],\n",
       " ['Bugs', 62, '리무진 (Feat. MINO) (Prod. GRAY)', '주시크 (Joosiq)'],\n",
       " ['Bugs', 63, '스물다섯, 스물하나', '임영웅'],\n",
       " ['Bugs', 64, 'Step Back', 'Harry Styles(해리 스타일스)'],\n",
       " ['Bugs', 65, '사건의 지평선', \"BE'O (비오)\"],\n",
       " ['Bugs', 66, '썸 2 (Feat. 정용화)', '자우림(Jaurim)'],\n",
       " ['Bugs', 67, '너의 모든 순간', 'GOT the beat'],\n",
       " ['Bugs', 68, '먼 훗날에', '윤하(Younha/ユンナ)'],\n",
       " ['Bugs', 69, 'Blueming', '소유 (SOYOU)'],\n",
       " ['Bugs', 70, '회전목마 (Feat. Zion.T, 원슈타인) (Prod. Slom)', '성시경'],\n",
       " ['Bugs', 71, 'Celebrity', '전상근'],\n",
       " ['Bugs', 72, '마지막 너의 인사', '아이유(IU)'],\n",
       " ['Bugs', 73, 'Dreams Come True', 'sokodomo'],\n",
       " ['Bugs', 74, 'GANJI (feat. Jessi)', '아이유(IU)'],\n",
       " ['Bugs', 75, 'Happier (feat. Crush)', '헤이즈(Heize)'],\n",
       " ['Bugs', 76, 'Roller Coaster', 'aespa'],\n",
       " ['Bugs', 77, 'Starlight', '싸이 (PSY)'],\n",
       " ['Bugs', 78, '무지개', '싸이 (PSY)'],\n",
       " ['Bugs', 79, 'Blue Flame', '정세운'],\n",
       " ['Bugs', 80, '언제나 사랑해', '태일 (TAEIL)'],\n",
       " ['Bugs', 81, '내일의 나에게', '임영웅'],\n",
       " ['Bugs', 82, 'Savage', 'LE SSERAFIM (르세라핌)'],\n",
       " ['Bugs', 83, '어떻게 이별까지 사랑하겠어, 널 사랑하는 거지', '케이시'],\n",
       " ['Bugs', 84, 'Bad Habits', '싸이 (PSY)'],\n",
       " ['Bugs', 85, '다시 만날 수 있을까', 'aespa'],\n",
       " ['Bugs', 86, '모든 날, 모든 순간 (Every day, Every Moment)', 'AKMU(악뮤)'],\n",
       " ['Bugs', 87, '9INTRO', 'Ed Sheeran(에드 시런)'],\n",
       " ['Bugs', 88, '헤픈 우연', '임영웅'],\n",
       " ['Bugs', 89, '사랑인가 봐 (Acoustic Ver.)', '폴킴(Paul Kim)'],\n",
       " ['Bugs', 90, '나의 월요일', '싸이 (PSY)'],\n",
       " ['Bugs', 91, 'Good Boy Gone Bad', '헤이즈(Heize)'],\n",
       " ['Bugs', 92, '어제처럼', '김세정'],\n",
       " ['Bugs', 93, '사계 (Four Seasons)', '싸이 (PSY)'],\n",
       " ['Bugs', 94, 'abcdefu', '투모로우바이투게더'],\n",
       " ['Bugs', 95, '바라만 본다', '폴킴(Paul Kim)'],\n",
       " ['Bugs', 96, '너의 번호를 누르고', '태연 (TAEYEON)'],\n",
       " ['Bugs', 97, '꽃 길', 'GAYLE'],\n",
       " ['Bugs', 98, 'Kiss Me More (feat. SZA)', 'MSG워너비(M.O.M)'],\n",
       " ['Bugs', 99, \"Can't Control Myself\", '김나영'],\n",
       " ['Bugs', 100, '나의 사춘기에게', 'BIGBANG (빅뱅)']]"
      ]
     },
     "execution_count": 36,
     "metadata": {},
     "output_type": "execute_result"
    }
   ],
   "source": [
    "songlist = []\n",
    "rank = 1\n",
    "\n",
    "titles = soup.select('p.title > a')\n",
    "artists = soup.select('p.artist > a')\n",
    "\n",
    "for each in range(len(soup.select('p.title > a'))):  # 100번 반복\n",
    "    title = titles[each].text.strip()\n",
    "    artist = artists[each].text.strip()\n",
    "    songlist.append(['Bugs',rank, title, artist])\n",
    "    rank += 1\n",
    "\n",
    "songlist"
   ]
  },
  {
   "cell_type": "code",
   "execution_count": 37,
   "metadata": {},
   "outputs": [
    {
     "data": {
      "text/html": [
       "<div>\n",
       "<style scoped>\n",
       "    .dataframe tbody tr th:only-of-type {\n",
       "        vertical-align: middle;\n",
       "    }\n",
       "\n",
       "    .dataframe tbody tr th {\n",
       "        vertical-align: top;\n",
       "    }\n",
       "\n",
       "    .dataframe thead th {\n",
       "        text-align: right;\n",
       "    }\n",
       "</style>\n",
       "<table border=\"1\" class=\"dataframe\">\n",
       "  <thead>\n",
       "    <tr style=\"text-align: right;\">\n",
       "      <th></th>\n",
       "      <th>차트명</th>\n",
       "      <th>순위</th>\n",
       "      <th>타이틀</th>\n",
       "      <th>가수</th>\n",
       "    </tr>\n",
       "  </thead>\n",
       "  <tbody>\n",
       "    <tr>\n",
       "      <th>0</th>\n",
       "      <td>Bugs</td>\n",
       "      <td>1</td>\n",
       "      <td>That That (prod. &amp; feat. SUGA of BTS)</td>\n",
       "      <td>싸이 (PSY)</td>\n",
       "    </tr>\n",
       "    <tr>\n",
       "      <th>1</th>\n",
       "      <td>Bugs</td>\n",
       "      <td>2</td>\n",
       "      <td>LOVE DIVE</td>\n",
       "      <td>IVE (아이브)</td>\n",
       "    </tr>\n",
       "    <tr>\n",
       "      <th>2</th>\n",
       "      <td>Bugs</td>\n",
       "      <td>3</td>\n",
       "      <td>초록을거머쥔우리는</td>\n",
       "      <td>잔나비</td>\n",
       "    </tr>\n",
       "    <tr>\n",
       "      <th>3</th>\n",
       "      <td>Bugs</td>\n",
       "      <td>4</td>\n",
       "      <td>TOMBOY</td>\n",
       "      <td>(여자)아이들</td>\n",
       "    </tr>\n",
       "    <tr>\n",
       "      <th>4</th>\n",
       "      <td>Bugs</td>\n",
       "      <td>5</td>\n",
       "      <td>FEARLESS</td>\n",
       "      <td>LE SSERAFIM (르세라핌)</td>\n",
       "    </tr>\n",
       "    <tr>\n",
       "      <th>...</th>\n",
       "      <td>...</td>\n",
       "      <td>...</td>\n",
       "      <td>...</td>\n",
       "      <td>...</td>\n",
       "    </tr>\n",
       "    <tr>\n",
       "      <th>95</th>\n",
       "      <td>Bugs</td>\n",
       "      <td>96</td>\n",
       "      <td>너의 번호를 누르고</td>\n",
       "      <td>태연 (TAEYEON)</td>\n",
       "    </tr>\n",
       "    <tr>\n",
       "      <th>96</th>\n",
       "      <td>Bugs</td>\n",
       "      <td>97</td>\n",
       "      <td>꽃 길</td>\n",
       "      <td>GAYLE</td>\n",
       "    </tr>\n",
       "    <tr>\n",
       "      <th>97</th>\n",
       "      <td>Bugs</td>\n",
       "      <td>98</td>\n",
       "      <td>Kiss Me More (feat. SZA)</td>\n",
       "      <td>MSG워너비(M.O.M)</td>\n",
       "    </tr>\n",
       "    <tr>\n",
       "      <th>98</th>\n",
       "      <td>Bugs</td>\n",
       "      <td>99</td>\n",
       "      <td>Can't Control Myself</td>\n",
       "      <td>김나영</td>\n",
       "    </tr>\n",
       "    <tr>\n",
       "      <th>99</th>\n",
       "      <td>Bugs</td>\n",
       "      <td>100</td>\n",
       "      <td>나의 사춘기에게</td>\n",
       "      <td>BIGBANG (빅뱅)</td>\n",
       "    </tr>\n",
       "  </tbody>\n",
       "</table>\n",
       "<p>100 rows × 4 columns</p>\n",
       "</div>"
      ],
      "text/plain": [
       "     차트명   순위                                    타이틀                  가수\n",
       "0   Bugs    1  That That (prod. & feat. SUGA of BTS)            싸이 (PSY)\n",
       "1   Bugs    2                              LOVE DIVE           IVE (아이브)\n",
       "2   Bugs    3                              초록을거머쥔우리는                 잔나비\n",
       "3   Bugs    4                                 TOMBOY             (여자)아이들\n",
       "4   Bugs    5                               FEARLESS  LE SSERAFIM (르세라핌)\n",
       "..   ...  ...                                    ...                 ...\n",
       "95  Bugs   96                             너의 번호를 누르고        태연 (TAEYEON)\n",
       "96  Bugs   97                                    꽃 길               GAYLE\n",
       "97  Bugs   98               Kiss Me More (feat. SZA)       MSG워너비(M.O.M)\n",
       "98  Bugs   99                   Can't Control Myself                 김나영\n",
       "99  Bugs  100                               나의 사춘기에게        BIGBANG (빅뱅)\n",
       "\n",
       "[100 rows x 4 columns]"
      ]
     },
     "execution_count": 37,
     "metadata": {},
     "output_type": "execute_result"
    }
   ],
   "source": [
    "df  = pd.DataFrame(songlist, columns = ['차트명','순위','타이틀','가수'])\n",
    "df"
   ]
  },
  {
   "cell_type": "code",
   "execution_count": 38,
   "metadata": {},
   "outputs": [],
   "source": [
    "df.to_excel('bugs.xlsx', index=False)   #엑셀로 저장시에는 인덱스는 빼고 저장"
   ]
  },
  {
   "cell_type": "code",
   "execution_count": null,
   "metadata": {},
   "outputs": [],
   "source": [
    "df.to_csv('bugs.csv')"
   ]
  }
 ],
 "metadata": {
  "interpreter": {
   "hash": "2043299c89c8cd0b4d1a6f5cf4529bd58e6a4e0fe3181a25e0d328c821cdc5c5"
  },
  "kernelspec": {
   "display_name": "Python 3.8.8 ('base')",
   "language": "python",
   "name": "python3"
  },
  "language_info": {
   "codemirror_mode": {
    "name": "ipython",
    "version": 3
   },
   "file_extension": ".py",
   "mimetype": "text/x-python",
   "name": "python",
   "nbconvert_exporter": "python",
   "pygments_lexer": "ipython3",
   "version": "3.8.8"
  },
  "orig_nbformat": 4
 },
 "nbformat": 4,
 "nbformat_minor": 2
}
