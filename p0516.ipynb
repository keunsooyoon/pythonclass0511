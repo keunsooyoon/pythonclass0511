{
 "cells": [
  {
   "cell_type": "code",
   "execution_count": 1,
   "metadata": {},
   "outputs": [],
   "source": [
    "import requests\n",
    "from bs4 import BeautifulSoup as bs\n",
    "import pandas\n"
   ]
  },
  {
   "cell_type": "code",
   "execution_count": 2,
   "metadata": {},
   "outputs": [],
   "source": [
    "html = requests.get('https://weather.naver.com/')\n",
    "soup = bs(html.text)\n"
   ]
  },
  {
   "cell_type": "code",
   "execution_count": 3,
   "metadata": {},
   "outputs": [
    {
     "data": {
      "text/plain": [
       "[<span class=\"blind\">NAVER</span>,\n",
       " <span class=\"blind\">선택됨</span>,\n",
       " <span class=\"blind\">검색 펼치기</span>,\n",
       " <span class=\"blind\">검색</span>,\n",
       " <span class=\"blind\">검색 취소</span>,\n",
       " <span class=\"blind\">이전 보기</span>,\n",
       " <span class=\"blind\">다음 보기</span>,\n",
       " <span class=\"blind\">날씨 제공사 설정</span>,\n",
       " <span class=\"blind\">현위치</span>,\n",
       " <span class=\"blind\">내위치 찾기</span>,\n",
       " <span class=\"blind\">현재 온도</span>,\n",
       " <span class=\"blind\">높아요</span>,\n",
       " <span class=\"blind\">이전 보기</span>,\n",
       " <span class=\"blind\">다음 보기</span>,\n",
       " <span class=\"blind\">시간별 날씨 정보를 제공하는 표</span>,\n",
       " <span class=\"blind\">구름많음</span>,\n",
       " <span class=\"blind\">강수확률</span>,\n",
       " <span class=\"blind\">맑음</span>,\n",
       " <span class=\"blind\">강수확률</span>,\n",
       " <span class=\"blind\">맑음</span>,\n",
       " <span class=\"blind\">강수확률</span>,\n",
       " <span class=\"blind\">맑음</span>,\n",
       " <span class=\"blind\">강수확률</span>,\n",
       " <span class=\"blind\">맑음</span>,\n",
       " <span class=\"blind\">강수확률</span>,\n",
       " <span class=\"blind\">맑음</span>,\n",
       " <span class=\"blind\">강수확률</span>,\n",
       " <span class=\"blind\">맑음</span>,\n",
       " <span class=\"blind\">강수확률</span>,\n",
       " <span class=\"blind\">맑음</span>,\n",
       " <span class=\"blind\">강수확률</span>,\n",
       " <span class=\"blind\">맑음</span>,\n",
       " <span class=\"blind\">강수확률</span>,\n",
       " <span class=\"blind\">맑음</span>,\n",
       " <span class=\"blind\">강수확률</span>,\n",
       " <span class=\"blind\">맑음</span>,\n",
       " <span class=\"blind\">강수확률</span>,\n",
       " <span class=\"blind\">맑음</span>,\n",
       " <span class=\"blind\">강수확률</span>,\n",
       " <span class=\"blind\">맑음</span>,\n",
       " <span class=\"blind\">강수확률</span>,\n",
       " <span class=\"blind\">맑음</span>,\n",
       " <span class=\"blind\">강수확률</span>,\n",
       " <span class=\"blind\">맑음</span>,\n",
       " <span class=\"blind\">강수확률</span>,\n",
       " <span class=\"blind\">맑음</span>,\n",
       " <span class=\"blind\">강수확률</span>,\n",
       " <span class=\"blind\">맑음</span>,\n",
       " <span class=\"blind\">강수확률</span>,\n",
       " <span class=\"blind\">맑음</span>,\n",
       " <span class=\"blind\">강수확률</span>,\n",
       " <span class=\"blind\">맑음</span>,\n",
       " <span class=\"blind\">강수확률</span>,\n",
       " <span class=\"blind\">맑음</span>,\n",
       " <span class=\"blind\">강수확률</span>,\n",
       " <span class=\"blind\">맑음</span>,\n",
       " <span class=\"blind\">강수확률</span>,\n",
       " <span class=\"blind\">맑음</span>,\n",
       " <span class=\"blind\">강수확률</span>,\n",
       " <span class=\"blind\">맑음</span>,\n",
       " <span class=\"blind\">강수확률</span>,\n",
       " <span class=\"blind\">맑음</span>,\n",
       " <span class=\"blind\">강수확률</span>,\n",
       " <span class=\"blind\">맑음</span>,\n",
       " <span class=\"blind\">강수확률</span>,\n",
       " <span class=\"blind\">맑음</span>,\n",
       " <span class=\"blind\">강수확률</span>,\n",
       " <span class=\"blind\">맑음</span>,\n",
       " <span class=\"blind\">강수확률</span>,\n",
       " <span class=\"blind\">맑음</span>,\n",
       " <span class=\"blind\">강수확률</span>,\n",
       " <span class=\"blind\">맑음</span>,\n",
       " <span class=\"blind\">강수확률</span>,\n",
       " <span class=\"blind\">맑음</span>,\n",
       " <span class=\"blind\">강수확률</span>,\n",
       " <span class=\"blind\">맑음</span>,\n",
       " <span class=\"blind\">강수확률</span>,\n",
       " <span class=\"blind\">맑음</span>,\n",
       " <span class=\"blind\">강수확률</span>,\n",
       " <span class=\"blind\">맑음</span>,\n",
       " <span class=\"blind\">강수확률</span>,\n",
       " <span class=\"blind\">맑음</span>,\n",
       " <span class=\"blind\">강수확률</span>,\n",
       " <span class=\"blind\">맑음</span>,\n",
       " <span class=\"blind\">강수확률</span>,\n",
       " <span class=\"blind\">맑음</span>,\n",
       " <span class=\"blind\">강수확률</span>,\n",
       " <span class=\"blind\">구름많음</span>,\n",
       " <span class=\"blind\">강수확률</span>,\n",
       " <span class=\"blind\">맑음</span>,\n",
       " <span class=\"blind\">강수확률</span>,\n",
       " <span class=\"blind\">구름많음</span>,\n",
       " <span class=\"blind\">강수확률</span>,\n",
       " <span class=\"blind\">구름많음</span>,\n",
       " <span class=\"blind\">강수확률</span>,\n",
       " <span class=\"blind\">맑음</span>,\n",
       " <span class=\"blind\">강수확률</span>,\n",
       " <span class=\"blind\">맑음</span>,\n",
       " <span class=\"blind\">강수확률</span>,\n",
       " <span class=\"blind\">맑음</span>,\n",
       " <span class=\"blind\">강수확률</span>,\n",
       " <span class=\"blind\">구름많음</span>,\n",
       " <span class=\"blind\">강수확률</span>,\n",
       " <span class=\"blind\">구름많음</span>,\n",
       " <span class=\"blind\">강수확률</span>,\n",
       " <span class=\"blind\">맑음</span>,\n",
       " <span class=\"blind\">강수확률</span>,\n",
       " <span class=\"blind\">맑음</span>,\n",
       " <span class=\"blind\">강수확률</span>,\n",
       " <span class=\"blind\">맑음</span>,\n",
       " <span class=\"blind\">강수확률</span>,\n",
       " <span class=\"blind\">맑음</span>,\n",
       " <span class=\"blind\">강수확률</span>,\n",
       " <span class=\"blind\">맑음</span>,\n",
       " <span class=\"blind\">강수확률</span>,\n",
       " <span class=\"blind\">맑음</span>,\n",
       " <span class=\"blind\">강수확률</span>,\n",
       " <span class=\"blind\">맑음</span>,\n",
       " <span class=\"blind\">강수확률</span>,\n",
       " <span class=\"blind\">맑음</span>,\n",
       " <span class=\"blind\">강수확률</span>,\n",
       " <span class=\"blind\">맑음</span>,\n",
       " <span class=\"blind\">강수확률</span>,\n",
       " <span class=\"blind\">맑음</span>,\n",
       " <span class=\"blind\">강수확률</span>,\n",
       " <span class=\"blind\">맑음</span>,\n",
       " <span class=\"blind\">강수확률</span>,\n",
       " <span class=\"blind\">맑음</span>,\n",
       " <span class=\"blind\">강수확률</span>,\n",
       " <span class=\"blind\">맑음</span>,\n",
       " <span class=\"blind\">강수확률</span>,\n",
       " <span class=\"blind\">맑음</span>,\n",
       " <span class=\"blind\">강수확률</span>,\n",
       " <span class=\"blind\">맑음</span>,\n",
       " <span class=\"blind\">강수확률</span>,\n",
       " <span class=\"blind\">맑음</span>,\n",
       " <span class=\"blind\">강수확률</span>,\n",
       " <span class=\"blind\">맑음</span>,\n",
       " <span class=\"blind\">강수확률</span>,\n",
       " <span class=\"blind\">맑음</span>,\n",
       " <span class=\"blind\">강수확률</span>,\n",
       " <span class=\"blind\">맑음</span>,\n",
       " <span class=\"blind\">강수확률</span>,\n",
       " <span class=\"blind\">맑음</span>,\n",
       " <span class=\"blind\">강수확률</span>,\n",
       " <span class=\"blind\">맑음</span>,\n",
       " <span class=\"blind\">강수확률</span>,\n",
       " <span class=\"blind\">맑음</span>,\n",
       " <span class=\"blind\">강수확률</span>,\n",
       " <span class=\"blind\">맑음</span>,\n",
       " <span class=\"blind\">강수확률</span>,\n",
       " <span class=\"blind\">구름많음</span>,\n",
       " <span class=\"blind\">강수확률</span>,\n",
       " <span class=\"blind\">구름많음</span>,\n",
       " <span class=\"blind\">강수확률</span>,\n",
       " <span class=\"blind\">구름많음</span>,\n",
       " <span class=\"blind\">강수확률</span>,\n",
       " <span class=\"blind\">구름많음</span>,\n",
       " <span class=\"blind\">강수확률</span>,\n",
       " <span class=\"blind\">구름많음</span>,\n",
       " <span class=\"blind\">강수확률</span>,\n",
       " <span class=\"blind\">구름많음</span>,\n",
       " <span class=\"blind\">강수확률</span>,\n",
       " <span class=\"blind\">구름많음</span>,\n",
       " <span class=\"blind\">강수확률</span>,\n",
       " <span class=\"blind\">구름많음</span>,\n",
       " <span class=\"blind\">강수확률</span>,\n",
       " <span class=\"blind\">구름많음</span>,\n",
       " <span class=\"blind\">강수확률</span>,\n",
       " <span class=\"blind\">이전 보기</span>,\n",
       " <span class=\"blind\">다음 보기</span>,\n",
       " <span class=\"blind\">도움말</span>,\n",
       " <span class=\"blind\">도움말 닫기</span>,\n",
       " <span class=\"blind\">도움말</span>,\n",
       " <span class=\"blind\">닫기</span>,\n",
       " <span class=\"blind\">도움말</span>,\n",
       " <span class=\"blind\">도움말 닫기</span>,\n",
       " <span class=\"blind\">강수확률</span>,\n",
       " <span class=\"blind\">강수확률</span>,\n",
       " <span class=\"blind\">최저기온</span>,\n",
       " <span class=\"blind\">최고기온</span>,\n",
       " <span class=\"blind\">강수확률</span>,\n",
       " <span class=\"blind\">강수확률</span>,\n",
       " <span class=\"blind\">최저기온</span>,\n",
       " <span class=\"blind\">최고기온</span>,\n",
       " <span class=\"blind\">강수확률</span>,\n",
       " <span class=\"blind\">맑음</span>,\n",
       " <span class=\"blind\">맑음</span>,\n",
       " <span class=\"blind\">강수확률</span>,\n",
       " <span class=\"blind\">최저기온</span>,\n",
       " <span class=\"blind\">최고기온</span>,\n",
       " <span class=\"blind\">강수확률</span>,\n",
       " <span class=\"blind\">맑음</span>,\n",
       " <span class=\"blind\">맑음</span>,\n",
       " <span class=\"blind\">강수확률</span>,\n",
       " <span class=\"blind\">최저기온</span>,\n",
       " <span class=\"blind\">최고기온</span>,\n",
       " <span class=\"blind\">강수확률</span>,\n",
       " <span class=\"blind\">맑음</span>,\n",
       " <span class=\"blind\">맑음</span>,\n",
       " <span class=\"blind\">강수확률</span>,\n",
       " <span class=\"blind\">최저기온</span>,\n",
       " <span class=\"blind\">최고기온</span>,\n",
       " <span class=\"blind\">강수확률</span>,\n",
       " <span class=\"blind\">맑음</span>,\n",
       " <span class=\"blind\">구름많음</span>,\n",
       " <span class=\"blind\">강수확률</span>,\n",
       " <span class=\"blind\">최저기온</span>,\n",
       " <span class=\"blind\">최고기온</span>,\n",
       " <span class=\"blind\">강수확률</span>,\n",
       " <span class=\"blind\">구름많음</span>,\n",
       " <span class=\"blind\">맑음</span>,\n",
       " <span class=\"blind\">강수확률</span>,\n",
       " <span class=\"blind\">최저기온</span>,\n",
       " <span class=\"blind\">최고기온</span>,\n",
       " <span class=\"blind\">강수확률</span>,\n",
       " <span class=\"blind\">구름많음</span>,\n",
       " <span class=\"blind\">맑음</span>,\n",
       " <span class=\"blind\">강수확률</span>,\n",
       " <span class=\"blind\">최저기온</span>,\n",
       " <span class=\"blind\">최고기온</span>,\n",
       " <span class=\"blind\">강수확률</span>,\n",
       " <span class=\"blind\">맑음</span>,\n",
       " <span class=\"blind\">맑음</span>,\n",
       " <span class=\"blind\">강수확률</span>,\n",
       " <span class=\"blind\">최저기온</span>,\n",
       " <span class=\"blind\">최고기온</span>,\n",
       " <span class=\"blind\">강수확률</span>,\n",
       " <span class=\"blind\">맑음</span>,\n",
       " <span class=\"blind\">맑음</span>,\n",
       " <span class=\"blind\">강수확률</span>,\n",
       " <span class=\"blind\">최저기온</span>,\n",
       " <span class=\"blind\">최고기온</span>,\n",
       " <span class=\"blind\">강수확률</span>,\n",
       " <span class=\"blind\">맑음</span>,\n",
       " <span class=\"blind\">맑음</span>,\n",
       " <span class=\"blind\">강수확률</span>,\n",
       " <span class=\"blind\">최저기온</span>,\n",
       " <span class=\"blind\">최고기온</span>,\n",
       " <span class=\"blind\">강수확률</span>,\n",
       " <span class=\"blind\">구름많음</span>,\n",
       " <span class=\"blind\">구름많음</span>,\n",
       " <span class=\"blind\">강수확률</span>,\n",
       " <span class=\"blind\">최저기온</span>,\n",
       " <span class=\"blind\">최고기온</span>,\n",
       " <span class=\"blind\">강수확률</span>,\n",
       " <span class=\"blind\">구름많음</span>,\n",
       " <span class=\"blind\">구름많음</span>,\n",
       " <span class=\"blind\">강수확률</span>,\n",
       " <span class=\"blind\">최저기온</span>,\n",
       " <span class=\"blind\">최고기온</span>,\n",
       " <span class=\"blind\">이전 보기</span>,\n",
       " <span class=\"blind\">다음 보기</span>,\n",
       " <span class=\"blind\">도움말</span>,\n",
       " <span class=\"blind\">닫기</span>,\n",
       " <span class=\"blind\">이전 보기</span>,\n",
       " <span class=\"blind\">다음 보기</span>,\n",
       " <span class=\"blind\">선택됨</span>,\n",
       " <span class=\"blind\">재생</span>,\n",
       " <span class=\"blind\">재생 중</span>,\n",
       " <span class=\"blind\">동영상 총 재생 시간</span>,\n",
       " <span class=\"blind\">중</span>,\n",
       " <span aria-live=\"polite\" class=\"blind\">2022년 05월 16일 16시 50분 한중일 위성영상</span>,\n",
       " <span class=\"blind\">재생</span>,\n",
       " <span class=\"blind\">재생 중</span>,\n",
       " <span class=\"blind\">동영상 총 재생 시간</span>,\n",
       " <span class=\"blind\">중</span>,\n",
       " <span aria-live=\"polite\" class=\"blind\">2022년 05월 16일 18시 30분 한반도 레이더영상</span>,\n",
       " <span class=\"blind\">동영상 뉴스</span>,\n",
       " <span class=\"blind\">재생시간</span>,\n",
       " <span class=\"blind\">동영상 뉴스</span>,\n",
       " <span class=\"blind\">재생시간</span>,\n",
       " <span class=\"blind\">동영상 뉴스</span>,\n",
       " <span class=\"blind\">재생시간</span>,\n",
       " <span class=\"blind\">동영상 뉴스</span>,\n",
       " <span class=\"blind\">재생시간</span>,\n",
       " <span class=\"blind\">동영상 뉴스</span>,\n",
       " <span class=\"blind\">재생시간</span>,\n",
       " <span class=\"blind\">동영상 뉴스</span>,\n",
       " <span class=\"blind\">재생시간</span>,\n",
       " <span class=\"blind\">이전 보기</span>,\n",
       " <span class=\"blind\">다음 뉴스 보기</span>,\n",
       " <span class=\"blind\">시간</span>,\n",
       " <span class=\"blind\">시간</span>,\n",
       " <span class=\"blind\">계절 월별 평균 정보. 기간, 평년기온, 평년강수 정보</span>,\n",
       " <span class=\"blind\">계절 월별 평균 정보. 기간, 평년기온, 평년강수 정보</span>,\n",
       " <span class=\"blind\">계절 월별 평균 정보. 기간, 평년기온, 평년강수 정보</span>,\n",
       " <span class=\"blind\">월간 기간별 평균 정보. 기간, 평년기온, 평년강수 정보</span>,\n",
       " <span class=\"blind\">월간 기간별 평균 정보. 기간, 평년기온, 평년강수 정보</span>,\n",
       " <span class=\"blind\">월간 기간별 평균 정보. 기간, 평년기온, 평년강수 정보</span>,\n",
       " <span class=\"blind\">월간 기간별 평균 정보. 기간, 평년기온, 평년강수 정보</span>,\n",
       " <span class=\"blind\">기상청 설정</span>,\n",
       " <span class=\"blind\">아큐웨더 설정</span>,\n",
       " <span class=\"blind\">웨더채널 설정</span>,\n",
       " <span class=\"blind\">이전 보기</span>,\n",
       " <span class=\"blind\">다음 보기</span>,\n",
       " <span class=\"blind\">팝업 닫기</span>]"
      ]
     },
     "execution_count": 3,
     "metadata": {},
     "output_type": "execute_result"
    }
   ],
   "source": [
    "soup.select('span.blind')"
   ]
  },
  {
   "cell_type": "code",
   "execution_count": 5,
   "metadata": {},
   "outputs": [
    {
     "data": {
      "text/plain": [
       "[<strong class=\"current\">\n",
       " <span class=\"blind\">현재 온도</span>20.5<span class=\"degree\">°</span>\n",
       " </strong>]"
      ]
     },
     "execution_count": 5,
     "metadata": {},
     "output_type": "execute_result"
    }
   ],
   "source": [
    "soup.select('strong.current')"
   ]
  },
  {
   "cell_type": "code",
   "execution_count": 7,
   "metadata": {},
   "outputs": [
    {
     "data": {
      "text/plain": [
       "'현재 온도20.5°'"
      ]
     },
     "execution_count": 7,
     "metadata": {},
     "output_type": "execute_result"
    }
   ],
   "source": [
    "soup.select('strong.current')[0].text.strip()"
   ]
  },
  {
   "cell_type": "code",
   "execution_count": 8,
   "metadata": {},
   "outputs": [
    {
     "data": {
      "text/plain": [
       "'20.5°'"
      ]
     },
     "execution_count": 8,
     "metadata": {},
     "output_type": "execute_result"
    }
   ],
   "source": [
    "soup.select('strong.current')[0].text.strip()[5:]"
   ]
  },
  {
   "cell_type": "code",
   "execution_count": 11,
   "metadata": {},
   "outputs": [
    {
     "data": {
      "text/plain": [
       "'맑음'"
      ]
     },
     "execution_count": 11,
     "metadata": {},
     "output_type": "execute_result"
    }
   ],
   "source": [
    "soup.select('span.weather')[0].text.strip()"
   ]
  },
  {
   "cell_type": "code",
   "execution_count": null,
   "metadata": {},
   "outputs": [],
   "source": [
    "###########################################################\n",
    "# 코드 종합\n",
    "###########################################################"
   ]
  },
  {
   "cell_type": "code",
   "execution_count": 15,
   "metadata": {},
   "outputs": [
    {
     "name": "stdout",
     "output_type": "stream",
     "text": [
      "현재 온도 :  20.2°\n",
      "현재 상태 :  맑음\n"
     ]
    }
   ],
   "source": [
    "import requests\n",
    "from bs4 import BeautifulSoup as bs\n",
    "import pandas\n",
    "\n",
    "html = requests.get('https://weather.naver.com/')\n",
    "soup = bs(html.text)\n",
    "\n",
    "print('현재 온도 : ', soup.select('strong.current')[0].text.strip()[5:])\n",
    "print('현재 상태 : ',soup.select('span.weather')[0].text.strip())"
   ]
  },
  {
   "cell_type": "code",
   "execution_count": null,
   "metadata": {},
   "outputs": [],
   "source": []
  }
 ],
 "metadata": {
  "interpreter": {
   "hash": "2043299c89c8cd0b4d1a6f5cf4529bd58e6a4e0fe3181a25e0d328c821cdc5c5"
  },
  "kernelspec": {
   "display_name": "Python 3.8.8 ('base')",
   "language": "python",
   "name": "python3"
  },
  "language_info": {
   "codemirror_mode": {
    "name": "ipython",
    "version": 3
   },
   "file_extension": ".py",
   "mimetype": "text/x-python",
   "name": "python",
   "nbconvert_exporter": "python",
   "pygments_lexer": "ipython3",
   "version": "3.8.8"
  },
  "orig_nbformat": 4
 },
 "nbformat": 4,
 "nbformat_minor": 2
}
